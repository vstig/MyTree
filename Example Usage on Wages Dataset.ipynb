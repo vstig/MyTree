{
 "cells": [
  {
   "cell_type": "code",
   "execution_count": 1,
   "metadata": {},
   "outputs": [],
   "source": [
    "import pandas as pd\n",
    "\n",
    "from helpers import clean_and_backfill_data\n",
    "\n",
    "from node import Node\n",
    "from tree import Tree"
   ]
  },
  {
   "cell_type": "code",
   "execution_count": 2,
   "metadata": {},
   "outputs": [
    {
     "data": {
      "text/html": [
       "<div>\n",
       "<style scoped>\n",
       "    .dataframe tbody tr th:only-of-type {\n",
       "        vertical-align: middle;\n",
       "    }\n",
       "\n",
       "    .dataframe tbody tr th {\n",
       "        vertical-align: top;\n",
       "    }\n",
       "\n",
       "    .dataframe thead th {\n",
       "        text-align: right;\n",
       "    }\n",
       "</style>\n",
       "<table border=\"1\" class=\"dataframe\">\n",
       "  <thead>\n",
       "    <tr style=\"text-align: right;\">\n",
       "      <th></th>\n",
       "      <th>year</th>\n",
       "      <th>school</th>\n",
       "      <th>exper</th>\n",
       "      <th>union</th>\n",
       "      <th>ethn</th>\n",
       "      <th>married</th>\n",
       "      <th>health</th>\n",
       "      <th>wage</th>\n",
       "      <th>industry</th>\n",
       "      <th>occupation</th>\n",
       "      <th>residence</th>\n",
       "    </tr>\n",
       "  </thead>\n",
       "  <tbody>\n",
       "    <tr>\n",
       "      <th>0</th>\n",
       "      <td>1980</td>\n",
       "      <td>14</td>\n",
       "      <td>1</td>\n",
       "      <td>False</td>\n",
       "      <td>other</td>\n",
       "      <td>False</td>\n",
       "      <td>False</td>\n",
       "      <td>1.197540</td>\n",
       "      <td>Business_and_Repair_Service</td>\n",
       "      <td>Service_Workers</td>\n",
       "      <td>north_east</td>\n",
       "    </tr>\n",
       "    <tr>\n",
       "      <th>1</th>\n",
       "      <td>1981</td>\n",
       "      <td>14</td>\n",
       "      <td>2</td>\n",
       "      <td>True</td>\n",
       "      <td>other</td>\n",
       "      <td>False</td>\n",
       "      <td>False</td>\n",
       "      <td>1.853060</td>\n",
       "      <td>Personal_Service</td>\n",
       "      <td>Service_Workers</td>\n",
       "      <td>north_east</td>\n",
       "    </tr>\n",
       "    <tr>\n",
       "      <th>2</th>\n",
       "      <td>1982</td>\n",
       "      <td>14</td>\n",
       "      <td>3</td>\n",
       "      <td>False</td>\n",
       "      <td>other</td>\n",
       "      <td>False</td>\n",
       "      <td>False</td>\n",
       "      <td>1.344462</td>\n",
       "      <td>Business_and_Repair_Service</td>\n",
       "      <td>Service_Workers</td>\n",
       "      <td>north_east</td>\n",
       "    </tr>\n",
       "    <tr>\n",
       "      <th>3</th>\n",
       "      <td>1983</td>\n",
       "      <td>14</td>\n",
       "      <td>4</td>\n",
       "      <td>False</td>\n",
       "      <td>other</td>\n",
       "      <td>False</td>\n",
       "      <td>False</td>\n",
       "      <td>1.433213</td>\n",
       "      <td>Business_and_Repair_Service</td>\n",
       "      <td>Service_Workers</td>\n",
       "      <td>north_east</td>\n",
       "    </tr>\n",
       "    <tr>\n",
       "      <th>4</th>\n",
       "      <td>1984</td>\n",
       "      <td>14</td>\n",
       "      <td>5</td>\n",
       "      <td>False</td>\n",
       "      <td>other</td>\n",
       "      <td>False</td>\n",
       "      <td>False</td>\n",
       "      <td>1.568125</td>\n",
       "      <td>Personal_Service</td>\n",
       "      <td>Craftsmen, Foremen_and_kindred</td>\n",
       "      <td>north_east</td>\n",
       "    </tr>\n",
       "  </tbody>\n",
       "</table>\n",
       "</div>"
      ],
      "text/plain": [
       "   year  school  exper  union   ethn  married  health      wage  \\\n",
       "0  1980      14      1  False  other    False   False  1.197540   \n",
       "1  1981      14      2   True  other    False   False  1.853060   \n",
       "2  1982      14      3  False  other    False   False  1.344462   \n",
       "3  1983      14      4  False  other    False   False  1.433213   \n",
       "4  1984      14      5  False  other    False   False  1.568125   \n",
       "\n",
       "                      industry                      occupation   residence  \n",
       "0  Business_and_Repair_Service                 Service_Workers  north_east  \n",
       "1             Personal_Service                 Service_Workers  north_east  \n",
       "2  Business_and_Repair_Service                 Service_Workers  north_east  \n",
       "3  Business_and_Repair_Service                 Service_Workers  north_east  \n",
       "4             Personal_Service  Craftsmen, Foremen_and_kindred  north_east  "
      ]
     },
     "execution_count": 2,
     "metadata": {},
     "output_type": "execute_result"
    }
   ],
   "source": [
    "male_wages = pd.read_csv('https://vincentarelbundock.github.io/Rdatasets/csv/plm/Males.csv').drop(['Unnamed: 0', 'nr'], axis=1)\n",
    "male_wages = clean_and_backfill_data(male_wages)\n",
    "male_wages.head()"
   ]
  },
  {
   "cell_type": "markdown",
   "metadata": {},
   "source": [
    "### Instantiating Node Object"
   ]
  },
  {
   "cell_type": "code",
   "execution_count": 3,
   "metadata": {},
   "outputs": [
    {
     "name": "stdout",
     "output_type": "stream",
     "text": [
      "feature: None\n",
      "split value: None\n",
      "# Samples: 0\n",
      "Avg y: inf \n",
      "\n",
      "feature: school\n",
      "split value: 12.0\n",
      "# Samples: 4360\n",
      "Avg y: 1.649\n"
     ]
    }
   ],
   "source": [
    "n = Node()\n",
    "print(n, '\\n')\n",
    "_ = n.split_data(male_wages, 'wage')\n",
    "print(n)"
   ]
  },
  {
   "cell_type": "markdown",
   "metadata": {},
   "source": [
    "### Training a Tree"
   ]
  },
  {
   "cell_type": "code",
   "execution_count": 4,
   "metadata": {},
   "outputs": [],
   "source": [
    "t = Tree(min_samples_leaf=5, max_depth=10)\n",
    "t.fit(male_wages, 'wage')"
   ]
  },
  {
   "cell_type": "code",
   "execution_count": 5,
   "metadata": {},
   "outputs": [
    {
     "data": {
      "text/plain": [
       "feature: school\n",
       "split value: 12.0\n",
       "# Samples: 4360\n",
       "Avg y: 1.649"
      ]
     },
     "execution_count": 5,
     "metadata": {},
     "output_type": "execute_result"
    }
   ],
   "source": [
    "t.root_node"
   ]
  },
  {
   "cell_type": "markdown",
   "metadata": {},
   "source": [
    "#### Traversing Tree to Group w/ Max Y"
   ]
  },
  {
   "cell_type": "code",
   "execution_count": 7,
   "metadata": {},
   "outputs": [
    {
     "name": "stdout",
     "output_type": "stream",
     "text": [
      "Split 0\n",
      "feature: school\n",
      "split value: 12.0\n",
      "# Samples: 4360\n",
      "Avg y: 1.649\n",
      "==> right branch\n",
      "\n",
      "\n",
      "Split 1\n",
      "feature: year\n",
      "split value: 1984.0\n",
      "# Samples: 2888\n",
      "Avg y: 1.741\n",
      "==> right branch\n",
      "\n",
      "\n",
      "Split 2\n",
      "feature: school\n",
      "split value: 13.0\n",
      "# Samples: 1444\n",
      "Avg y: 1.857\n",
      "==> right branch\n",
      "\n",
      "\n",
      "Split 3\n",
      "feature: industry\n",
      "split value: Trade\n",
      "# Samples: 520\n",
      "Avg y: 2.010\n",
      "==> left branch\n",
      "\n",
      "\n",
      "Split 4\n",
      "feature: industry\n",
      "split value: Agricultural\n",
      "# Samples: 417\n",
      "Avg y: 2.051\n",
      "==> left branch\n",
      "\n",
      "\n",
      "Split 5\n",
      "feature: year\n",
      "split value: 1985\n",
      "# Samples: 406\n",
      "Avg y: 2.065\n",
      "==> right branch\n",
      "\n",
      "\n",
      "Split 6\n",
      "feature: industry\n",
      "split value: Finance\n",
      "# Samples: 305\n",
      "Avg y: 2.114\n",
      "==> right branch\n",
      "\n",
      "\n",
      "Split 7\n",
      "feature: residence\n",
      "split value: north_east\n",
      "# Samples: 32\n",
      "Avg y: 2.339\n",
      "==> right branch\n",
      "\n",
      "\n",
      "Split 8\n",
      "feature: school\n",
      "split value: 14\n",
      "# Samples: 8\n",
      "Avg y: 2.689\n"
     ]
    }
   ],
   "source": [
    "ct = 0\n",
    "node = t.root_node\n",
    "while not node.is_terminal:\n",
    "    print('Split {}'.format(ct))\n",
    "    print(node)\n",
    "    if node.left_child.root_node.avg > node.right_child.root_node.avg:\n",
    "        print(\"==> left branch\")\n",
    "        node = node.left_child.root_node\n",
    "    else:\n",
    "        node = node.right_child.root_node\n",
    "        print(\"==> right branch\")\n",
    "    ct += 1\n",
    "    print('\\n')\n",
    "    \n",
    "print('Split {}'.format(ct))\n",
    "print(node)"
   ]
  },
  {
   "cell_type": "markdown",
   "metadata": {},
   "source": [
    "### Compare w/ Scikit DecisionTreeRegressor"
   ]
  },
  {
   "cell_type": "code",
   "execution_count": 3,
   "metadata": {},
   "outputs": [],
   "source": [
    "from sklearn.tree import DecisionTreeRegressor\n",
    "from sklearn.tree import export_graphviz\n",
    "\n",
    "from helpers import get_dummie_data"
   ]
  },
  {
   "cell_type": "code",
   "execution_count": 8,
   "metadata": {},
   "outputs": [
    {
     "data": {
      "text/plain": [
       "DecisionTreeRegressor(criterion='mse', max_depth=10, max_features=None,\n",
       "           max_leaf_nodes=None, min_impurity_decrease=0.0,\n",
       "           min_impurity_split=None, min_samples_leaf=5,\n",
       "           min_samples_split=2, min_weight_fraction_leaf=0.0,\n",
       "           presort=False, random_state=None, splitter='best')"
      ]
     },
     "execution_count": 8,
     "metadata": {},
     "output_type": "execute_result"
    }
   ],
   "source": [
    "dummied_df = get_dummie_data(male_wages)\n",
    "train_cols = list(filter(lambda col: col!='wage', dummied_df.columns))\n",
    "X = dummied_df[train_cols]\n",
    "y = dummied_df['wage']\n",
    "\n",
    "dtr = DecisionTreeRegressor(min_samples_leaf=5, max_depth=10)\n",
    "dtr.fit(X, y)"
   ]
  },
  {
   "cell_type": "code",
   "execution_count": 12,
   "metadata": {},
   "outputs": [],
   "source": [
    "export_graphviz(dtr, out_file='images/wage_tree.dot',\n",
    "                feature_names = train_cols, max_depth=4)\n",
    "\n",
    "! dot -Tpng images/wage_tree.dot -o images/wage_tree.png"
   ]
  },
  {
   "cell_type": "markdown",
   "metadata": {},
   "source": [
    "##### Visualizing the Scikit Tree\n",
    "\n",
    "<img src=\"images/wage_tree.png\">"
   ]
  }
 ],
 "metadata": {
  "kernelspec": {
   "display_name": "Python 3",
   "language": "python",
   "name": "python3"
  },
  "language_info": {
   "codemirror_mode": {
    "name": "ipython",
    "version": 3
   },
   "file_extension": ".py",
   "mimetype": "text/x-python",
   "name": "python",
   "nbconvert_exporter": "python",
   "pygments_lexer": "ipython3",
   "version": "3.6.5"
  }
 },
 "nbformat": 4,
 "nbformat_minor": 2
}
